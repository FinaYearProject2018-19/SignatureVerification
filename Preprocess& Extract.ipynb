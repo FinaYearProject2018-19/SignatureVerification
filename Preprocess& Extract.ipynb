{
 "cells": [
  {
   "cell_type": "code",
   "execution_count": 1,
   "metadata": {},
   "outputs": [],
   "source": [
    "import cv2\n",
    "import matplotlib.pyplot as plt\n",
    "import numpy as np\n",
    "import pandas as pd\n",
    "%matplotlib inline"
   ]
  },
  {
   "cell_type": "code",
   "execution_count": 131,
   "metadata": {},
   "outputs": [],
   "source": [
    "image = cv2.imread('new2.png',1)\n",
    "image = cv2.resize(image, (640,480), interpolation = cv2.INTER_AREA)"
   ]
  },
  {
   "cell_type": "code",
   "execution_count": 128,
   "metadata": {},
   "outputs": [],
   "source": [
    "blurred = cv2.pyrMeanShiftFiltering(image,31,91)\n",
    "gray = cv2.cvtColor(blurred, cv2.COLOR_BGR2GRAY)"
   ]
  },
  {
   "cell_type": "code",
   "execution_count": 114,
   "metadata": {},
   "outputs": [],
   "source": [
    "retval, thresh = cv2.threshold(gray,242,255,cv2.THRESH_BINARY_INV)\n",
    "im2,contours,hie = cv2.findContours(thresh,cv2.RETR_CCOMP,cv2.CHAIN_APPROX_SIMPLE)"
   ]
  },
  {
   "cell_type": "code",
   "execution_count": 116,
   "metadata": {},
   "outputs": [],
   "source": [
    "#cnt = contours[1:]\n",
    "z = cv2.drawContours(image,[c1,c2,c3],0,(0,0,255),4)"
   ]
  },
  {
   "cell_type": "code",
   "execution_count": 133,
   "metadata": {},
   "outputs": [],
   "source": [
    "cv2.imshow(\"im\",img)\n",
    "cv2.waitKey(0)\n",
    "cv2.destroyAllWindows()"
   ]
  },
  {
   "cell_type": "code",
   "execution_count": 66,
   "metadata": {},
   "outputs": [
    {
     "data": {
      "text/plain": [
       "15"
      ]
     },
     "execution_count": 66,
     "metadata": {},
     "output_type": "execute_result"
    }
   ],
   "source": [
    "len(contours)"
   ]
  },
  {
   "cell_type": "code",
   "execution_count": 132,
   "metadata": {},
   "outputs": [],
   "source": [
    "x,y,w,h = cv2.boundingRect(c3)\n",
    "img = cv2.rectangle(image,(x,y),(x+w,y+h),(0,255,0),2)"
   ]
  },
  {
   "cell_type": "code",
   "execution_count": 119,
   "metadata": {},
   "outputs": [],
   "source": [
    "rect = cv2.minAreaRect(c1)\n",
    "box = cv2.boxPoints(rect)\n",
    "box = np.int0(box)\n",
    "im = cv2.drawContours(image,[box],0,(0,0,255),2)"
   ]
  },
  {
   "cell_type": "code",
   "execution_count": 83,
   "metadata": {},
   "outputs": [],
   "source": [
    "perimeter = cv2.arcLength(contours[2],True)"
   ]
  },
  {
   "cell_type": "code",
   "execution_count": 151,
   "metadata": {},
   "outputs": [
    {
     "data": {
      "text/plain": [
       "((267.2761535644531, 387.0914001464844),\n",
       " (138.1724853515625, 46.04342269897461),\n",
       " -13.840694427490234)"
      ]
     },
     "execution_count": 151,
     "metadata": {},
     "output_type": "execute_result"
    }
   ],
   "source": [
    "rect"
   ]
  },
  {
   "cell_type": "code",
   "execution_count": 144,
   "metadata": {},
   "outputs": [],
   "source": [
    "rows,cols = image.shape[:2]\n",
    "[vx,vy,x,y] = cv2.fitLine(c3, cv2.DIST_L2,0,0.01,0.01)\n",
    "lefty = int((-x*vy/vx) + y)\n",
    "righty = int(((cols-x)*vy/vx)+y)\n",
    "x = cv2.line(image,(cols-1,righty),(0,lefty),(0,255,0),2)"
   ]
  },
  {
   "cell_type": "code",
   "execution_count": 8,
   "metadata": {},
   "outputs": [],
   "source": [
    "def find_max_conts(contours):\n",
    "    a = -1\n",
    "    b = -1\n",
    "    c = -1\n",
    "    c1 = contours[0]\n",
    "    c2 = contours[0]\n",
    "    c3 = contours[0]\n",
    "    for co in contours:\n",
    "        l = cv2.arcLength(co,True)\n",
    "        if l>a:\n",
    "            c = b\n",
    "            b = a\n",
    "            a = l\n",
    "            c3 = c2\n",
    "            c2 = c1\n",
    "            c1 = co\n",
    "        elif l>b:\n",
    "            c = b\n",
    "            b = l\n",
    "            c3 = c2\n",
    "            c2 = co\n",
    "        elif l>c:\n",
    "            c = l\n",
    "            c3 = co\n",
    "    return c1,c2,c3"
   ]
  },
  {
   "cell_type": "code",
   "execution_count": 115,
   "metadata": {},
   "outputs": [
    {
     "data": {
      "text/plain": [
       "((1267, 1, 2), (769, 1, 2), (333, 1, 2))"
      ]
     },
     "execution_count": 115,
     "metadata": {},
     "output_type": "execute_result"
    }
   ],
   "source": [
    "c1,c2,c3 = find_max_conts(contours)\n",
    "c1.shape,c2.shape,c3.shape"
   ]
  },
  {
   "cell_type": "code",
   "execution_count": 123,
   "metadata": {},
   "outputs": [],
   "source": [
    "def extract_cont_features(cnt):\n",
    "    \"\"\"parameter is contour[i]\n",
    "       output is Centroid(x,y),area,perimeter,angle,aspect ratio\n",
    "    \"\"\"\n",
    "    M = cv2.moments(cnt)\n",
    "    cx = int(M['m10']/M['m00'])\n",
    "    cy = int(M['m01']/M['m00'])\n",
    "    area = cv2.contourArea(cnt)\n",
    "    perimeter = cv2.arcLength(cnt,True)\n",
    "    rect = cv2.minAreaRect(cnt)\n",
    "    angle = rect[2]\n",
    "    asr = rect[1][0]/rect[1][1]\n",
    "    return (cx,cy),area,perimeter,angle,asr"
   ]
  },
  {
   "cell_type": "code",
   "execution_count": 42,
   "metadata": {},
   "outputs": [
    {
     "data": {
      "text/plain": [
       "1.3671364921781812"
      ]
     },
     "execution_count": 42,
     "metadata": {},
     "output_type": "execute_result"
    }
   ],
   "source": [
    "rect[1][0]/rect[1][1]"
   ]
  },
  {
   "cell_type": "code",
   "execution_count": 124,
   "metadata": {},
   "outputs": [],
   "source": [
    "def make_feature_table(contours):\n",
    "    c1,c2,c3 = find_max_conts(contours)\n",
    "    data = pd.DataFrame()\n",
    "    for c in (c1,c2,c3):\n",
    "        (x,y),a,p,an,ar = extract_cont_features(c)\n",
    "        df = pd.DataFrame(np.array([x,y,a,p,an,ar]).reshape(1,6),columns=['Cx','Cy','Area','Perimeter','Angle','Aspect Ratio'])\n",
    "        data = pd.concat([data,df],axis=1)\n",
    "    return data "
   ]
  },
  {
   "cell_type": "code",
   "execution_count": 125,
   "metadata": {},
   "outputs": [],
   "source": [
    "d = make_feature_table(contours)"
   ]
  },
  {
   "cell_type": "code",
   "execution_count": 126,
   "metadata": {},
   "outputs": [
    {
     "data": {
      "text/html": [
       "<div>\n",
       "<style scoped>\n",
       "    .dataframe tbody tr th:only-of-type {\n",
       "        vertical-align: middle;\n",
       "    }\n",
       "\n",
       "    .dataframe tbody tr th {\n",
       "        vertical-align: top;\n",
       "    }\n",
       "\n",
       "    .dataframe thead th {\n",
       "        text-align: right;\n",
       "    }\n",
       "</style>\n",
       "<table border=\"1\" class=\"dataframe\">\n",
       "  <thead>\n",
       "    <tr style=\"text-align: right;\">\n",
       "      <th></th>\n",
       "      <th>Cx</th>\n",
       "      <th>Cy</th>\n",
       "      <th>Area</th>\n",
       "      <th>Perimeter</th>\n",
       "      <th>Angle</th>\n",
       "      <th>Aspect Ratio</th>\n",
       "      <th>Cx</th>\n",
       "      <th>Cy</th>\n",
       "      <th>Area</th>\n",
       "      <th>Perimeter</th>\n",
       "      <th>Angle</th>\n",
       "      <th>Aspect Ratio</th>\n",
       "      <th>Cx</th>\n",
       "      <th>Cy</th>\n",
       "      <th>Area</th>\n",
       "      <th>Perimeter</th>\n",
       "      <th>Angle</th>\n",
       "      <th>Aspect Ratio</th>\n",
       "    </tr>\n",
       "  </thead>\n",
       "  <tbody>\n",
       "    <tr>\n",
       "      <th>0</th>\n",
       "      <td>298.0</td>\n",
       "      <td>260.0</td>\n",
       "      <td>96704.5</td>\n",
       "      <td>2912.667292</td>\n",
       "      <td>-5.219265</td>\n",
       "      <td>1.367136</td>\n",
       "      <td>303.0</td>\n",
       "      <td>246.0</td>\n",
       "      <td>83566.5</td>\n",
       "      <td>1672.177836</td>\n",
       "      <td>-71.864502</td>\n",
       "      <td>1.623663</td>\n",
       "      <td>262.0</td>\n",
       "      <td>387.0</td>\n",
       "      <td>1564.5</td>\n",
       "      <td>734.825462</td>\n",
       "      <td>-13.840694</td>\n",
       "      <td>3.000917</td>\n",
       "    </tr>\n",
       "  </tbody>\n",
       "</table>\n",
       "</div>"
      ],
      "text/plain": [
       "      Cx     Cy     Area    Perimeter     Angle  Aspect Ratio     Cx     Cy  \\\n",
       "0  298.0  260.0  96704.5  2912.667292 -5.219265      1.367136  303.0  246.0   \n",
       "\n",
       "      Area    Perimeter      Angle  Aspect Ratio     Cx     Cy    Area  \\\n",
       "0  83566.5  1672.177836 -71.864502      1.623663  262.0  387.0  1564.5   \n",
       "\n",
       "    Perimeter      Angle  Aspect Ratio  \n",
       "0  734.825462 -13.840694      3.000917  "
      ]
     },
     "execution_count": 126,
     "metadata": {},
     "output_type": "execute_result"
    }
   ],
   "source": [
    "d"
   ]
  },
  {
   "cell_type": "code",
   "execution_count": 46,
   "metadata": {},
   "outputs": [],
   "source": []
  },
  {
   "cell_type": "code",
   "execution_count": null,
   "metadata": {},
   "outputs": [],
   "source": []
  },
  {
   "cell_type": "code",
   "execution_count": null,
   "metadata": {},
   "outputs": [],
   "source": []
  }
 ],
 "metadata": {
  "kernelspec": {
   "display_name": "Python 3",
   "language": "python",
   "name": "python3"
  },
  "language_info": {
   "codemirror_mode": {
    "name": "ipython",
    "version": 3
   },
   "file_extension": ".py",
   "mimetype": "text/x-python",
   "name": "python",
   "nbconvert_exporter": "python",
   "pygments_lexer": "ipython3",
   "version": "3.6.5"
  }
 },
 "nbformat": 4,
 "nbformat_minor": 2
}
